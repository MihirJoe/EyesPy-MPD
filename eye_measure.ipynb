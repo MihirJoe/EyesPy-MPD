{
 "cells": [
  {
   "cell_type": "markdown",
   "metadata": {},
   "source": [
    "## Import Libraries"
   ]
  },
  {
   "cell_type": "code",
   "execution_count": 1,
   "metadata": {},
   "outputs": [],
   "source": [
    "import os\n",
    "import numpy as np\n",
    "from PIL import Image\n",
    "import torch\n",
    "import torch.nn as nn\n",
    "import torch.optim as optim\n",
    "from torch.utils.data import Dataset, DataLoader\n",
    "from torchvision import transforms\n",
    "import matplotlib.pyplot as plt\n",
    "from torchvision.transforms import functional as TF\n",
    "from skimage.metrics import structural_similarity as ssim\n",
    "import tifffile "
   ]
  },
  {
   "cell_type": "markdown",
   "metadata": {},
   "source": [
    "## Enable Hardware"
   ]
  },
  {
   "cell_type": "code",
   "execution_count": 2,
   "metadata": {},
   "outputs": [
    {
     "name": "stdout",
     "output_type": "stream",
     "text": [
      "Device available: mps\n"
     ]
    }
   ],
   "source": [
    "device = torch.device('mps' if torch.backends.mps.is_available() else 'cpu')\n",
    "print('Device available:', device)"
   ]
  },
  {
   "cell_type": "markdown",
   "metadata": {},
   "source": [
    "## Create Dataset"
   ]
  },
  {
   "cell_type": "markdown",
   "metadata": {},
   "source": [
    "### Data Path"
   ]
  },
  {
   "cell_type": "code",
   "execution_count": null,
   "metadata": {},
   "outputs": [],
   "source": [
    "# Define model data path\n",
    "lc_model_data_path = \"data/model_data/\" # LC only\n",
    "all_model_data_path = \"data/all_model_data/\" # all data\n",
    "brachial_plexus_data = \"/Users/mihirjoshi/Library/CloudStorage/OneDrive-TheOhioStateUniversity(2)/Honors Thesis/Ocular US Denoising/brachial_plexus_kaggle_data/ultrasound-nerve-segmentation/\"\n",
    "\n",
    "# Update these parameters\n",
    "data_path = brachial_plexus_data\n",
    "\n",
    "train_label =  'train/' #'Train/'\n",
    "val_label = 'test/' #'Validation/'"
   ]
  },
  {
   "cell_type": "code",
   "execution_count": null,
   "metadata": {},
   "outputs": [],
   "source": [
    "class EyeDataset(Dataset):\n",
    "    def __init__(self, directory, transform=None):\n",
    "        self.directory = directory\n",
    "        self.transform = transform\n",
    "        self.filenames = [f for f in os.listdir(directory) if f.endswith(('.png', '.jpg', '.jpeg', '.tif', '.bmp'))]\n",
    "\n",
    "    def __len__(self):\n",
    "        return len(self.filenames)\n",
    "\n",
    "    def __getitem__(self, idx):\n",
    "        img_path = os.path.join(self.directory, self.filenames[idx])\n",
    "        image = Image.open(img_path)\n",
    "        if self.transform: # Dynamically apply data transformation\n",
    "            image = self.transform(image)\n",
    "        return image\n",
    "\n",
    "# Create a transform to convert the images to PyTorch tensors\n",
    "transform = transforms.Compose([\n",
    "    transforms.ToTensor()\n",
    "])\n",
    "\n",
    "# Create the dataset for images\n",
    "train_data = EyeDataset(data_path + train_label, transform=transform)\n",
    "val_data = EyeDataset(data_path + val_label, transform=transform)\n",
    "\n",
    "# Function to create data loader\n",
    "def create_loader(train_dataset, batch_size):\n",
    "    torch.manual_seed(0)  # For reproducibility of random numbers in PyTorch\n",
    "    train_loader = DataLoader(train_dataset, batch_size=batch_size, shuffle=True)  # Creates a training DataLoader from this Dataset\n",
    "\n",
    "    return train_loader\n",
    "\n",
    "train_dataset_size = len(train_data)\n",
    "print('Number of images in the training dataset:', train_dataset_size)\n",
    "\n",
    "val_dataset_size = len(val_data)\n",
    "print('Number of images in the validation dataset:', val_dataset_size)"
   ]
  }
 ],
 "metadata": {
  "kernelspec": {
   "display_name": "eyesPY-MPD",
   "language": "python",
   "name": "python3"
  },
  "language_info": {
   "codemirror_mode": {
    "name": "ipython",
    "version": 3
   },
   "file_extension": ".py",
   "mimetype": "text/x-python",
   "name": "python",
   "nbconvert_exporter": "python",
   "pygments_lexer": "ipython3",
   "version": "3.13.0"
  }
 },
 "nbformat": 4,
 "nbformat_minor": 2
}
